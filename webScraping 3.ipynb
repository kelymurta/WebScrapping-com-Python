{
 "cells": [
  {
   "cell_type": "markdown",
   "id": "a7b328b9",
   "metadata": {},
   "source": [
    "# Web Scraping de dados"
   ]
  },
  {
   "cell_type": "markdown",
   "id": "ace73f6c",
   "metadata": {},
   "source": [
    "## Primeiro passo: ir clicando para obter o que queremos"
   ]
  },
  {
   "cell_type": "code",
   "execution_count": 59,
   "id": "ebed39f5",
   "metadata": {
    "scrolled": true
   },
   "outputs": [
    {
     "data": {
      "text/plain": [
       "'\\n\\ndriver.quit()\\n\\n\\n######################################################################\\n\\n\\n# Encontrar a pasta de downloads para diferentes sistemas operacionais\\nif os.name == \\'nt\\':  # Windows\\n    pasta_downloads = os.path.join(expanduser(\"~\"), \"Downloads\")\\nelif os.name == \\'posix\\':  # Linux ou macOS\\n    pasta_downloads = os.path.join(expanduser(\"~\"), \"Downloads\")\\nelse:\\n    print(\"Sistema operacional não suportado.\")\\n    exit()\\n\\n    \\n    \\n    \\n######################################################################\\n# FUNÇÃO\\n\\n# Função para buscar o arquivo STEPS_SHARK.csv na pasta de downloads\\n\\ndef procurar_arquivo_downloads(nome_arquivo):\\n    for root, dirs, files in os.walk(pasta_downloads):\\n        if nome_arquivo in files:\\n            return os.path.join(root, nome_arquivo)\\n    return None\\n\\n#####################################################################\\n\\n\\n\\n# Procurar o arquivo STEPS_SHARK.csv na pasta de downloads\\n\\ncaminho_arquivo = procurar_arquivo_downloads(\"STEPS_SHARK.csv\")\\n\\n# Verificar se o arquivo foi encontrado\\nif caminho_arquivo:\\n    print(f\"O arquivo STEPS_SHARK.csv foi encontrado em: {caminho_arquivo}\")\\nelse:\\n    print(\"O arquivo STEPS_SHARK.csv não foi encontrado na pasta de downloads.\")\\n    \\n    \\n\\n############################################################\\n\\ndf = pd.read_csv(caminho_arquivo)\\n\\nproj = float(input(\\'ID do projeto que quer acessar? \\'))\\nlinhas_selecionadas = df[df[\\'ID\\'] == proj]\\nlinhas_selecionadas.to_csv(f\\'{proj}.csv\\', index=False)\\n'"
      ]
     },
     "execution_count": 59,
     "metadata": {},
     "output_type": "execute_result"
    }
   ],
   "source": [
    "from selenium.webdriver import Chrome\n",
    "from selenium.webdriver.common.by import By\n",
    "from selenium.webdriver.common.keys import Keys\n",
    "from selenium.webdriver.support.ui import WebDriverWait\n",
    "from selenium.webdriver.support import expected_conditions as EC\n",
    "from bs4 import BeautifulSoup\n",
    "import csv\n",
    "import requests\n",
    "import pandas as pd\n",
    "import time\n",
    "import os\n",
    "from os.path import expanduser\n",
    "\n",
    "\n",
    "link = \"https://powerrockscombr.sharepoint.com/sites/QA-ENG/_layouts/15/viewlsts.aspx?view=14\"\n",
    "\n",
    "driver = Chrome()\n",
    "driver.get(link)\n",
    "\n",
    "# Preencher campos de login e senha\n",
    "username_input = WebDriverWait(driver, 10).until(\n",
    "    EC.presence_of_element_located((By.ID, \"i0116\"))\n",
    ")\n",
    "username_input.send_keys(\"webscraping@webscraping.com.br\")\n",
    "\n",
    "next_button = WebDriverWait(driver, 15).until(\n",
    "    EC.element_to_be_clickable((By.ID, \"idSIButton9\"))\n",
    ")\n",
    "next_button.click()\n",
    "\n",
    "password_input = WebDriverWait(driver, 15).until(\n",
    "    EC.presence_of_element_located((By.ID, \"i0118\"))\n",
    ")\n",
    "password_input.send_keys(\"webscraping\")\n",
    "\n",
    "# Clicar no botão de login\n",
    "login_button = WebDriverWait(driver, 20).until(\n",
    "    EC.element_to_be_clickable((By.ID, \"idSIButton9\"))\n",
    ")\n",
    "login_button.click()\n",
    "\n",
    "\n",
    "# Aguarde o login ser concluído, adicione um tempo de espera conforme necessário\n",
    "\n",
    "# Após o login, você pode prosseguir com outras interações ou navegação\n",
    "entrar_button = WebDriverWait(driver, 30).until(\n",
    "    EC.element_to_be_clickable((By.ID, \"idSIButton9\"))\n",
    ")\n",
    "entrar_button.click()\n",
    "\n",
    "step_shark = WebDriverWait(driver, 10).until(\n",
    "    EC.element_to_be_clickable((By.XPATH, \"//a[text()='STEPS_SHARK']\"))\n",
    ")\n",
    "step_shark.click()\n",
    "\n",
    "\n",
    "# Clicar nos três pontos para abrir o menu\n",
    "elemento_tres_pontos = WebDriverWait(driver, 10).until(\n",
    "    EC.element_to_be_clickable((By.CSS_SELECTOR, \"i[data-icon-name='More'].ms-Icon.root-33.css-86.ms-Button-menuIcon.menuIcon-148\"))\n",
    ")\n",
    "elemento_tres_pontos.click()\n",
    "\n",
    "# Aguardar a visibilidade do elemento \"Exportar\" no menu\n",
    "elemento_exportar = WebDriverWait(driver, 10).until(\n",
    "    EC.visibility_of_element_located((By.XPATH, \"//span[contains(text(), 'Exportar')]\"))\n",
    ")\n",
    "# Clicar em \"Exportar\"\n",
    "elemento_exportar.click()\n",
    "\n",
    "# Aguardar a visibilidade do elemento \"Exportar como CSV\" no menu\n",
    "elemento_exportar_csv = WebDriverWait(driver, 10).until(\n",
    "    EC.visibility_of_element_located((By.XPATH, \"//span[contains(text(), 'Exportar para CSV')]\"))\n",
    ")\n",
    "# Clicar em \"Exportar como CSV\"\n",
    "elemento_exportar_csv.click()\n",
    "\n",
    "\n",
    "time.sleep(40)\n",
    "\n",
    "\n",
    "global_nav_button = WebDriverWait(driver, 20).until(\n",
    "    EC.element_to_be_clickable((By.XPATH, \"//i[@data-icon-name='GlobalNavButton']\"))\n",
    ")\n",
    "global_nav_button.click()\n",
    "\n",
    "    \n",
    "conteudo_site_button = WebDriverWait(driver, 20).until(\n",
    "    EC.element_to_be_clickable((By.XPATH, \"//span[@class='ms-Nav-linkText linkText_4a471f57' and text()='Conteúdo do site']\"))\n",
    ")\n",
    "conteudo_site_button.click()\n",
    "\n",
    "\n",
    "dados_entrada_link = WebDriverWait(driver, 20).until(\n",
    "    EC.element_to_be_clickable((By.XPATH, \"//a[@title='DADOS_ENTRADA']\"))\n",
    ")\n",
    "dados_entrada_link.click()\n",
    "\n",
    "\n",
    "# Clicar nos três pontos para abrir o menu\n",
    "elemento_tres_pontos = WebDriverWait(driver, 10).until(\n",
    "    EC.element_to_be_clickable((By.CSS_SELECTOR, \"i[data-icon-name='More'].ms-Icon.root-33.css-86.ms-Button-menuIcon.menuIcon-148\"))\n",
    ")\n",
    "elemento_tres_pontos.click()\n",
    "\n",
    "# Aguardar a visibilidade do elemento \"Exportar\" no menu\n",
    "elemento_exportar = WebDriverWait(driver, 10).until(\n",
    "    EC.visibility_of_element_located((By.XPATH, \"//span[contains(text(), 'Exportar')]\"))\n",
    ")\n",
    "# Clicar em \"Exportar\"\n",
    "elemento_exportar.click()\n",
    "\n",
    "# Aguardar a visibilidade do elemento \"Exportar como CSV\" no menu\n",
    "elemento_exportar_csv = WebDriverWait(driver, 10).until(\n",
    "    EC.visibility_of_element_located((By.XPATH, \"//span[contains(text(), 'Exportar para CSV')]\"))\n",
    ")\n",
    "# Clicar em \"Exportar como CSV\"\n",
    "elemento_exportar_csv.click()\n",
    "\n",
    "\n",
    "time.sleep(10)\n",
    "\n",
    "\n",
    "driver.quit()\n",
    "\n",
    "\n",
    "######################################################################\n",
    "\n",
    "\n",
    "# Encontrar a pasta de downloads para diferentes sistemas operacionais\n",
    "if os.name == 'nt':  # Windows\n",
    "    pasta_downloads = os.path.join(expanduser(\"~\"), \"Downloads\")\n",
    "elif os.name == 'posix':  # Linux ou macOS\n",
    "    pasta_downloads = os.path.join(expanduser(\"~\"), \"Downloads\")\n",
    "else:\n",
    "    print(\"Sistema operacional não suportado.\")\n",
    "    exit()\n",
    "\n",
    "    \n",
    "    \n",
    "    \n",
    "######################################################################\n",
    "# FUNÇÃO\n",
    "\n",
    "# Função para buscar o arquivo STEPS_SHARK.csv na pasta de downloads\n",
    "\n",
    "def procurar_arquivo_downloads(nome_arquivo):\n",
    "    for root, dirs, files in os.walk(pasta_downloads):\n",
    "        if nome_arquivo in files:\n",
    "            return os.path.join(root, nome_arquivo)\n",
    "    return None\n",
    "\n",
    "#####################################################################\n",
    "\n",
    "\n",
    "\n",
    "# Procurar o arquivo STEPS_SHARK.csv na pasta de downloads\n",
    "\n",
    "caminho_arquivo = procurar_arquivo_downloads(\"STEPS_SHARK.csv\")\n",
    "\n",
    "# Verificar se o arquivo foi encontrado\n",
    "if caminho_arquivo:\n",
    "    print(f\"O arquivo STEPS_SHARK.csv foi encontrado em: {caminho_arquivo}\")\n",
    "else:\n",
    "    print(\"O arquivo STEPS_SHARK.csv não foi encontrado na pasta de downloads.\")"
   ]
  },
  {
   "cell_type": "code",
   "execution_count": 150,
   "id": "373731ee",
   "metadata": {},
   "outputs": [
    {
     "name": "stdout",
     "output_type": "stream",
     "text": [
      "O arquivo STEPS_SHARK.csv foi encontrado em: /home/katlyn/Downloads/STEPS_SHARK.csv\n"
     ]
    }
   ],
   "source": [
    "# Procurar o arquivo STEPS_SHARK.csv na pasta de downloads\n",
    "\n",
    "caminho_arquivo = procurar_arquivo_downloads(\"STEPS_SHARK.csv\")\n",
    "\n",
    "# Verificar se o arquivo foi encontrado\n",
    "if caminho_arquivo:\n",
    "    print(f\"O arquivo STEPS_SHARK.csv foi encontrado em: {caminho_arquivo}\")\n",
    "else:\n",
    "    print(\"O arquivo STEPS_SHARK.csv não foi encontrado na pasta de downloads.\")"
   ]
  },
  {
   "cell_type": "markdown",
   "id": "a6ed5477",
   "metadata": {},
   "source": [
    "## Segundo passo: identificar o outro arquivo csv"
   ]
  },
  {
   "cell_type": "code",
   "execution_count": 151,
   "id": "6173d0dd",
   "metadata": {},
   "outputs": [
    {
     "name": "stdout",
     "output_type": "stream",
     "text": [
      "O arquivo DADOS_ENTRADA.csv foi encontrado em: /home/katlyn/Downloads/DADOS_ENTRADA.csv\n"
     ]
    }
   ],
   "source": [
    "caminho_arquivo2 = procurar_arquivo_downloads(\"DADOS_ENTRADA.csv\")\n",
    "\n",
    "# Verificar se o arquivo foi encontrado\n",
    "if caminho_arquivo2:\n",
    "    print(f\"O arquivo DADOS_ENTRADA.csv foi encontrado em: {caminho_arquivo2}\")\n",
    "else:\n",
    "    print(\"O arquivo DADOS_ENTRADA.csv não foi encontrado na pasta de downloads.\")"
   ]
  },
  {
   "cell_type": "markdown",
   "id": "be383983",
   "metadata": {},
   "source": [
    "## Terceiro passo: fazendo o merge das planilhas"
   ]
  },
  {
   "cell_type": "code",
   "execution_count": 154,
   "id": "b4b11ed1",
   "metadata": {},
   "outputs": [
    {
     "name": "stdout",
     "output_type": "stream",
     "text": [
      "Digite o ID_STEP desejado (ou 'sair' para encerrar): 1\n",
      "ID_STEP 1 não encontrado na tabela2.\n",
      "Digite o ID_STEP desejado (ou 'sair' para encerrar): 2\n",
      "ID_STEP 2 não encontrado na tabela2.\n",
      "Digite o ID_STEP desejado (ou 'sair' para encerrar): 6318\n",
      "Linha correspondente ao ID_STEP 6318 encontrada e salva em '15-12-2023_09-35-10_download.csv'.\n",
      "Digite o ID_STEP desejado (ou 'sair' para encerrar): 5\n",
      "ID_STEP 5 não encontrado na tabela2.\n",
      "Digite o ID_STEP desejado (ou 'sair' para encerrar): sair\n",
      "Encerrando o programa...\n"
     ]
    }
   ],
   "source": [
    "import pandas as pd\n",
    "from datetime import datetime\n",
    "\n",
    "\n",
    "tabela1 = pd.read_csv(caminho_arquivo)\n",
    "tabela2 = pd.read_csv(caminho_arquivo2)\n",
    "\n",
    "# Remover vírgulas dos valores na coluna 'ID_STEP' para realizar a correspondência correta\n",
    "tabela2['ID_STEP'] = tabela2['ID_STEP'].astype(str).str.replace(',', '')\n",
    "\n",
    "# Converter a coluna 'ID_STEP' para inteiros removendo as vírgulas\n",
    "tabela2['ID_STEP'] = tabela2['ID_STEP'].str.replace(',', '').astype(int)\n",
    "\n",
    "# Loop para solicitar continuamente o ID_STEP desejado\n",
    "while True:\n",
    "    # Solicitar ao usuário o ID_STEP desejado\n",
    "    id_step_desejado = input(\"Digite o ID_STEP desejado (ou 'sair' para encerrar): \")\n",
    "\n",
    "    if id_step_desejado.lower() == 'sair':\n",
    "        print(\"Encerrando o programa...\")\n",
    "        break\n",
    "\n",
    "    if (tabela2['ID_STEP'] == int(id_step_desejado)).any():\n",
    "        # Encontrar o ID_STEP na tabela1\n",
    "        linha_correspondente = tabela1[tabela1['ID'] == int(id_step_desejado)]\n",
    "\n",
    "        # Verificar se o ID_STEP foi encontrado na tabela1\n",
    "        if not linha_correspondente.empty:\n",
    "            # Criar um nome para o arquivo baseado na data e hora atuais\n",
    "            nome_arquivo = datetime.now().strftime(\"%d-%m-%Y_%H-%M-%S\") + '_download.csv'\n",
    "\n",
    "            # Salvar a linha correspondente em um novo arquivo CSV\n",
    "            linha_correspondente.to_csv(nome_arquivo, index=False)\n",
    "\n",
    "            print(f\"Linha correspondente ao ID_STEP {id_step_desejado} encontrada e salva em '{nome_arquivo}'.\")\n",
    "        else:\n",
    "            print(f\"ID_STEP {id_step_desejado} não encontrado na tabela1.\")\n",
    "    else:\n",
    "        print(f\"ID_STEP {id_step_desejado} não encontrado na tabela2.\")\n"
   ]
  },
  {
   "cell_type": "code",
   "execution_count": null,
   "id": "f84d1061",
   "metadata": {},
   "outputs": [],
   "source": []
  }
 ],
 "metadata": {
  "kernelspec": {
   "display_name": "Python 3 (ipykernel)",
   "language": "python",
   "name": "python3"
  },
  "language_info": {
   "codemirror_mode": {
    "name": "ipython",
    "version": 3
   },
   "file_extension": ".py",
   "mimetype": "text/x-python",
   "name": "python",
   "nbconvert_exporter": "python",
   "pygments_lexer": "ipython3",
   "version": "3.9.12"
  }
 },
 "nbformat": 4,
 "nbformat_minor": 5
}
